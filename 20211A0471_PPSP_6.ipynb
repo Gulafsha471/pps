{
  "nbformat": 4,
  "nbformat_minor": 0,
  "metadata": {
    "colab": {
      "name": "20211A0471_PPSP_6",
      "provenance": [],
      "authorship_tag": "ABX9TyNPS0vennCkML6rYg2fq8SK",
      "include_colab_link": true
    },
    "kernelspec": {
      "name": "python3",
      "display_name": "Python 3"
    },
    "language_info": {
      "name": "python"
    }
  },
  "cells": [
    {
      "cell_type": "markdown",
      "metadata": {
        "id": "view-in-github",
        "colab_type": "text"
      },
      "source": [
        "<a href=\"https://colab.research.google.com/github/Gulafsha471/pps/blob/main/20211A0471_PPSP_6.ipynb\" target=\"_parent\"><img src=\"https://colab.research.google.com/assets/colab-badge.svg\" alt=\"Open In Colab\"/></a>"
      ]
    },
    {
      "cell_type": "code",
      "metadata": {
        "id": "ySA-4pQW7G1-",
        "colab": {
          "base_uri": "https://localhost:8080/"
        },
        "outputId": "64c8ca21-bef8-4041-8239-8aa1810bda69"
      },
      "source": [
        " \n",
        "N=int(input(\"Enter the choosen num: \"))\n",
        "if N%2==0:\n",
        "    print(\"Team A\")\n",
        "else:\n",
        "    print(\"Team B\")"
      ],
      "execution_count": 6,
      "outputs": [
        {
          "output_type": "stream",
          "text": [
            "Enter the choosen num: 628\n",
            "Team A\n"
          ],
          "name": "stdout"
        }
      ]
    }
  ]
}