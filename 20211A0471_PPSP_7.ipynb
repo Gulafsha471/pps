{
  "nbformat": 4,
  "nbformat_minor": 0,
  "metadata": {
    "colab": {
      "name": "20211A0471_PPSP_7",
      "provenance": [],
      "authorship_tag": "ABX9TyPkLFLmtUaC2VMlvpESUJli",
      "include_colab_link": true
    },
    "kernelspec": {
      "name": "python3",
      "display_name": "Python 3"
    },
    "language_info": {
      "name": "python"
    }
  },
  "cells": [
    {
      "cell_type": "markdown",
      "metadata": {
        "id": "view-in-github",
        "colab_type": "text"
      },
      "source": [
        "<a href=\"https://colab.research.google.com/github/Gulafsha471/pps/blob/main/20211A0471_PPSP_7.ipynb\" target=\"_parent\"><img src=\"https://colab.research.google.com/assets/colab-badge.svg\" alt=\"Open In Colab\"/></a>"
      ]
    },
    {
      "cell_type": "code",
      "metadata": {
        "colab": {
          "base_uri": "https://localhost:8080/"
        },
        "id": "C8Y_k6helTU_",
        "outputId": "eadbbd50-49eb-4457-e62f-235e4bfd2e68"
      },
      "source": [
        " \n",
        "N= int(input( \"Enter the day of the month\"))\n",
        " \n",
        "for i in range(1,N+1):\n",
        "    print(\"HAPPY BIRTHDAY\",end=\"\")"
      ],
      "execution_count": 1,
      "outputs": [
        {
          "output_type": "stream",
          "text": [
            "Enter the day of the month2\n",
            "HAPPY BIRTHDAYHAPPY BIRTHDAY"
          ],
          "name": "stdout"
        }
      ]
    }
  ]
}