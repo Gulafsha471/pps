{
  "nbformat": 4,
  "nbformat_minor": 0,
  "metadata": {
    "colab": {
      "name": "20211A0471_PPSP_05",
      "provenance": [],
      "authorship_tag": "ABX9TyMkEuVAMH5IZCO/PHtlcqGe",
      "include_colab_link": true
    },
    "kernelspec": {
      "name": "python3",
      "display_name": "Python 3"
    },
    "language_info": {
      "name": "python"
    }
  },
  "cells": [
    {
      "cell_type": "markdown",
      "metadata": {
        "id": "view-in-github",
        "colab_type": "text"
      },
      "source": [
        "<a href=\"https://colab.research.google.com/github/Gulafsha471/pps/blob/main/20211A0471_PPSP_05.ipynb\" target=\"_parent\"><img src=\"https://colab.research.google.com/assets/colab-badge.svg\" alt=\"Open In Colab\"/></a>"
      ]
    },
    {
      "cell_type": "code",
      "metadata": {
        "colab": {
          "base_uri": "https://localhost:8080/"
        },
        "id": "X7GrIPqtj8pS",
        "outputId": "f717fc3f-f73e-46e7-a31d-5e4f5df9f635"
      },
      "source": [
        " \n",
        "N = int(input( \"Enter the Total Runs\"))\n",
        "for i in range(1,101):\n",
        "    if i%4==0 and i%6==0:\n",
        "        print(\"HITMAN\")\n",
        "    elif i%4==0:\n",
        "        print(\"FOUR\")\n",
        "    elif i%6==0:\n",
        "        print(\"SIX\")\n",
        "    else:\n",
        "        print(i)"
      ],
      "execution_count": 1,
      "outputs": [
        {
          "output_type": "stream",
          "text": [
            "Enter the Total Runs1\n",
            "1\n",
            "2\n",
            "3\n",
            "FOUR\n",
            "5\n",
            "SIX\n",
            "7\n",
            "FOUR\n",
            "9\n",
            "10\n",
            "11\n",
            "HITMAN\n",
            "13\n",
            "14\n",
            "15\n",
            "FOUR\n",
            "17\n",
            "SIX\n",
            "19\n",
            "FOUR\n",
            "21\n",
            "22\n",
            "23\n",
            "HITMAN\n",
            "25\n",
            "26\n",
            "27\n",
            "FOUR\n",
            "29\n",
            "SIX\n",
            "31\n",
            "FOUR\n",
            "33\n",
            "34\n",
            "35\n",
            "HITMAN\n",
            "37\n",
            "38\n",
            "39\n",
            "FOUR\n",
            "41\n",
            "SIX\n",
            "43\n",
            "FOUR\n",
            "45\n",
            "46\n",
            "47\n",
            "HITMAN\n",
            "49\n",
            "50\n",
            "51\n",
            "FOUR\n",
            "53\n",
            "SIX\n",
            "55\n",
            "FOUR\n",
            "57\n",
            "58\n",
            "59\n",
            "HITMAN\n",
            "61\n",
            "62\n",
            "63\n",
            "FOUR\n",
            "65\n",
            "SIX\n",
            "67\n",
            "FOUR\n",
            "69\n",
            "70\n",
            "71\n",
            "HITMAN\n",
            "73\n",
            "74\n",
            "75\n",
            "FOUR\n",
            "77\n",
            "SIX\n",
            "79\n",
            "FOUR\n",
            "81\n",
            "82\n",
            "83\n",
            "HITMAN\n",
            "85\n",
            "86\n",
            "87\n",
            "FOUR\n",
            "89\n",
            "SIX\n",
            "91\n",
            "FOUR\n",
            "93\n",
            "94\n",
            "95\n",
            "HITMAN\n",
            "97\n",
            "98\n",
            "99\n",
            "FOUR\n"
          ],
          "name": "stdout"
        }
      ]
    }
  ]
}