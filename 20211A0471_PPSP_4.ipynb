{
  "nbformat": 4,
  "nbformat_minor": 0,
  "metadata": {
    "colab": {
      "name": "20211A0471_PPSP_4",
      "provenance": [],
      "authorship_tag": "ABX9TyOMBskYQwvVZM/3naAAKYMR",
      "include_colab_link": true
    },
    "kernelspec": {
      "name": "python3",
      "display_name": "Python 3"
    },
    "language_info": {
      "name": "python"
    }
  },
  "cells": [
    {
      "cell_type": "markdown",
      "metadata": {
        "id": "view-in-github",
        "colab_type": "text"
      },
      "source": [
        "<a href=\"https://colab.research.google.com/github/Gulafsha471/pps/blob/main/20211A0471_PPSP_4.ipynb\" target=\"_parent\"><img src=\"https://colab.research.google.com/assets/colab-badge.svg\" alt=\"Open In Colab\"/></a>"
      ]
    },
    {
      "cell_type": "code",
      "metadata": {
        "colab": {
          "base_uri": "https://localhost:8080/"
        },
        "id": "-bdyPoGtfvul",
        "outputId": "6c0ebcfb-4546-42ae-e757-c5b01281d163"
      },
      "source": [
        " \n",
        "N = int(input( 'Enter the Money'))\n",
        " \n",
        "if N >= 1000:\n",
        "   print(\"Pizza\")\n",
        "elif N>500 and N<1000:\n",
        "    print(\"Biryani\")\n",
        "elif N>=100 and N<500:\n",
        "    print(\"StreetFood\")\n",
        "elif N<=100:\n",
        "    print(\"NoFood\")"
      ],
      "execution_count": 7,
      "outputs": [
        {
          "output_type": "stream",
          "text": [
            "Enter the Money499\n",
            "StreetFood\n"
          ],
          "name": "stdout"
        }
      ]
    }
  ]
}